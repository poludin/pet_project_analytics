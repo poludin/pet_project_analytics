{
 "cells": [
  {
   "cell_type": "code",
   "execution_count": 1,
   "metadata": {},
   "outputs": [],
   "source": [
    "# импортируем необходимые библиотеки\n",
    "import pandas as pd\n",
    "import numpy as np\n",
    "import seaborn as sns\n",
    "import matplotlib.pyplot as plt\n",
    "import scipy.stats as st\n",
    "from scipy.stats import bootstrap\n",
    "import pandahouse as ph\n",
    "\n",
    "import requests\n",
    "from urllib.parse import urlencode\n",
    "\n",
    "%matplotlib inline"
   ]
  },
  {
   "cell_type": "code",
   "execution_count": 2,
   "metadata": {},
   "outputs": [],
   "source": [
    "# ссылка на необходимые для работы файлы\n",
    "groups_data_key = 'https://disk.yandex.ru/d/UhyYx41rTt3clQ'\n",
    "active_studs_key = 'https://disk.yandex.ru/d/Tbs44Bm6H_FwFQ'\n",
    "checks_key = 'https://disk.yandex.ru/d/pH1q-VqcxXjsVA'\n",
    "groups_add_key = 'https://disk.yandex.ru/d/5Kxrz02m3IBUwQ'"
   ]
  },
  {
   "cell_type": "markdown",
   "metadata": {},
   "source": [
    "# Задание 1. Проанализировать итоги эксперимента по внедрению новой механики оплаты услуг на сайте"
   ]
  },
  {
   "cell_type": "markdown",
   "metadata": {},
   "source": [
    "В ходе эксперимента с целевой группой (B) была внедрена новая система оплаты услуг на сайте, в то время как у контрольной группы (A) оставалась текущая базовая система"
   ]
  },
  {
   "cell_type": "code",
   "execution_count": 3,
   "metadata": {},
   "outputs": [],
   "source": [
    "# считаем входные данные по API \n",
    "# функция для считывания данных по API\n",
    "def get_data(public_key, sep):\n",
    "    base_url ='https://cloud-api.yandex.net/v1/disk/public/resources/download?'\n",
    "    final_url = base_url + urlencode(dict(public_key=public_key))\n",
    "    response = requests.get(final_url)\n",
    "    download_url = response.json()['href']\n",
    "    download_response = requests.get(download_url)\n",
    "    return (pd.read_csv(download_url, sep=sep))"
   ]
  },
  {
   "cell_type": "code",
   "execution_count": 4,
   "metadata": {},
   "outputs": [],
   "source": [
    "groups_data = get_data(public_key=groups_data_key,sep=';')\n",
    "active_studs = get_data(public_key=active_studs_key,sep = ';')\n",
    "checks = get_data(public_key=checks_key,sep = ';')"
   ]
  },
  {
   "cell_type": "code",
   "execution_count": 5,
   "metadata": {
    "scrolled": true
   },
   "outputs": [
    {
     "name": "stdout",
     "output_type": "stream",
     "text": [
      "В контрольной и целевой группах числится 74484 пользователей, из которых 8341 зашли на сайт в дни проведения эксперимента и лишь 541 совершили целевое действие\n"
     ]
    }
   ],
   "source": [
    "# изучим данные\n",
    "print(f'В контрольной и целевой группах числится {groups_data.shape[0]} пользователей, из которых \\\n",
    "    {active_studs.shape[0]} зашли на сайт в дни проведения эксперимента \\\n",
    "    и лишь {checks.shape[0]} совершили целевое действие')"
   ]
  },
  {
   "cell_type": "code",
   "execution_count": 6,
   "metadata": {},
   "outputs": [
    {
     "data": {
      "text/plain": [
       "B    80.3\n",
       "A    19.7\n",
       "Name: grp, dtype: float64"
      ]
     },
     "execution_count": 6,
     "metadata": {},
     "output_type": "execute_result"
    }
   ],
   "source": [
    "# доля пользователей в контрольной и целевой группах\n",
    "np.round(groups_data.grp.value_counts(normalize=True).mul(100),2)"
   ]
  },
  {
   "cell_type": "code",
   "execution_count": 7,
   "metadata": {
    "scrolled": true
   },
   "outputs": [],
   "source": [
    "# объединим данные в один датафрейм\n",
    "df = groups_data.merge(active_studs.student_id, left_on = groups_data.id, right_on=active_studs.student_id, \n",
    "                       how='left').drop('key_0', axis=1)"
   ]
  },
  {
   "cell_type": "code",
   "execution_count": 8,
   "metadata": {},
   "outputs": [],
   "source": [
    "df = df.merge(checks.rev,left_on = df.id, right_on= checks.student_id, how='left').drop('key_0', axis=1)"
   ]
  },
  {
   "cell_type": "code",
   "execution_count": 9,
   "metadata": {},
   "outputs": [
    {
     "name": "stdout",
     "output_type": "stream",
     "text": [
      "<class 'pandas.core.frame.DataFrame'>\n",
      "Int64Index: 74484 entries, 0 to 74483\n",
      "Data columns (total 4 columns):\n",
      " #   Column      Non-Null Count  Dtype  \n",
      "---  ------      --------------  -----  \n",
      " 0   id          74484 non-null  int64  \n",
      " 1   grp         74484 non-null  object \n",
      " 2   student_id  8328 non-null   float64\n",
      " 3   rev         540 non-null    float64\n",
      "dtypes: float64(2), int64(1), object(1)\n",
      "memory usage: 2.8+ MB\n"
     ]
    }
   ],
   "source": [
    "df.info()"
   ]
  },
  {
   "cell_type": "code",
   "execution_count": 10,
   "metadata": {
    "scrolled": true
   },
   "outputs": [
    {
     "data": {
      "text/html": [
       "<div>\n",
       "<style scoped>\n",
       "    .dataframe tbody tr th:only-of-type {\n",
       "        vertical-align: middle;\n",
       "    }\n",
       "\n",
       "    .dataframe tbody tr th {\n",
       "        vertical-align: top;\n",
       "    }\n",
       "\n",
       "    .dataframe thead th {\n",
       "        text-align: right;\n",
       "    }\n",
       "</style>\n",
       "<table border=\"1\" class=\"dataframe\">\n",
       "  <thead>\n",
       "    <tr style=\"text-align: right;\">\n",
       "      <th></th>\n",
       "      <th>student_id</th>\n",
       "      <th>rev</th>\n",
       "    </tr>\n",
       "  </thead>\n",
       "  <tbody>\n",
       "    <tr>\n",
       "      <th>540</th>\n",
       "      <td>5740903</td>\n",
       "      <td>1900.0</td>\n",
       "    </tr>\n",
       "  </tbody>\n",
       "</table>\n",
       "</div>"
      ],
      "text/plain": [
       "     student_id     rev\n",
       "540     5740903  1900.0"
      ]
     },
     "execution_count": 10,
     "metadata": {},
     "output_type": "execute_result"
    }
   ],
   "source": [
    "# данный пользователь не принадлежит к контрольной / целевой группе\n",
    "checks[checks.student_id.isin(df.id)==False]"
   ]
  },
  {
   "cell_type": "code",
   "execution_count": 11,
   "metadata": {
    "scrolled": false
   },
   "outputs": [
    {
     "data": {
      "text/plain": [
       "B    81.57\n",
       "A    18.43\n",
       "Name: grp, dtype: float64"
      ]
     },
     "execution_count": 11,
     "metadata": {},
     "output_type": "execute_result"
    }
   ],
   "source": [
    "# доля пользователей по группам, которые зашли на сайт в дни проведения эксперимента: структура также сохраняется\n",
    "np.round(df[df.student_id>0].grp.value_counts(normalize=True).mul(100),2)"
   ]
  },
  {
   "cell_type": "markdown",
   "metadata": {},
   "source": [
    "### Гипотеза 1: изменение соотношения количества покупок на сайте"
   ]
  },
  {
   "cell_type": "code",
   "execution_count": 12,
   "metadata": {},
   "outputs": [],
   "source": [
    "# создадим переменные, которые отвечают за покупку на сайте и активность в дни проведения эксперимента\n",
    "df['is_pay']= df.rev.apply(lambda x: 1 if x>0 else 0)\n",
    "df['is_active'] = df.student_id.apply(lambda x: 1 if x>0 else 0)"
   ]
  },
  {
   "cell_type": "markdown",
   "metadata": {},
   "source": [
    "Посмотрим на кросстабуляцию:"
   ]
  },
  {
   "cell_type": "code",
   "execution_count": 13,
   "metadata": {},
   "outputs": [
    {
     "data": {
      "text/html": [
       "<div>\n",
       "<style scoped>\n",
       "    .dataframe tbody tr th:only-of-type {\n",
       "        vertical-align: middle;\n",
       "    }\n",
       "\n",
       "    .dataframe tbody tr th {\n",
       "        vertical-align: top;\n",
       "    }\n",
       "\n",
       "    .dataframe thead th {\n",
       "        text-align: right;\n",
       "    }\n",
       "</style>\n",
       "<table border=\"1\" class=\"dataframe\">\n",
       "  <thead>\n",
       "    <tr style=\"text-align: right;\">\n",
       "      <th>is_pay</th>\n",
       "      <th>0</th>\n",
       "      <th>1</th>\n",
       "    </tr>\n",
       "    <tr>\n",
       "      <th>grp</th>\n",
       "      <th></th>\n",
       "      <th></th>\n",
       "    </tr>\n",
       "  </thead>\n",
       "  <tbody>\n",
       "    <tr>\n",
       "      <th>A</th>\n",
       "      <td>1457</td>\n",
       "      <td>78</td>\n",
       "    </tr>\n",
       "    <tr>\n",
       "      <th>B</th>\n",
       "      <td>6480</td>\n",
       "      <td>313</td>\n",
       "    </tr>\n",
       "  </tbody>\n",
       "</table>\n",
       "</div>"
      ],
      "text/plain": [
       "is_pay     0    1\n",
       "grp              \n",
       "A       1457   78\n",
       "B       6480  313"
      ]
     },
     "execution_count": 13,
     "metadata": {},
     "output_type": "execute_result"
    }
   ],
   "source": [
    "pd.crosstab(df[df.is_active==1].grp, df[df.is_active==1].is_pay)"
   ]
  },
  {
   "cell_type": "markdown",
   "metadata": {},
   "source": [
    "Проверим, повлияла ли новая методика оплаты на количество покупок на сайте"
   ]
  },
  {
   "cell_type": "markdown",
   "metadata": {},
   "source": [
    "Поскольку наличие оплаты представляет собой категориальную переменную (пользователь совершил оплату или нет), мы будем использовать критерий хи-квадрат для проведения анализа. Сформулируем наши гипотезы следующим образом: Нулевая гипотеза (H0) утверждает, что новый метод оплаты не оказывает влияния на факт совершения покупки на сайте, в то время как альтернативная гипотеза (H1) предполагает, что новый метод оплаты влияет на решение пользователя о совершении покупки на сайте."
   ]
  },
  {
   "cell_type": "code",
   "execution_count": 14,
   "metadata": {},
   "outputs": [
    {
     "name": "stdout",
     "output_type": "stream",
     "text": [
      "У нас нет оснований отвергнуть нулевую гипотезу\n"
     ]
    }
   ],
   "source": [
    "# воспользуемся функцией chi2_contingency из библиотеки scipy.stats\n",
    "alpha = 0.05 # критерий значимости\n",
    "if st.chi2_contingency(pd.crosstab(df[df.is_active==1].grp, df[df.is_active==1].is_pay))[1]> alpha:\n",
    "    print('У нас нет оснований отвергнуть нулевую гипотезу')\n",
    "else:\n",
    "    print('Мы отвергаем нулевую гипотезу')"
   ]
  },
  {
   "cell_type": "markdown",
   "metadata": {},
   "source": [
    "# Ответ"
   ]
  },
  {
   "cell_type": "markdown",
   "metadata": {},
   "source": [
    "У нас недостаточно данных для опровержения нулевой гипотезы, поэтому мы не можем утверждать, что новый метод оплаты влияет на изменение объема покупок на сайте."
   ]
  },
  {
   "cell_type": "markdown",
   "metadata": {},
   "source": [
    "Далее посмотрим на метрики:"
   ]
  },
  {
   "cell_type": "code",
   "execution_count": 15,
   "metadata": {
    "scrolled": true
   },
   "outputs": [
    {
     "data": {
      "text/html": [
       "<div>\n",
       "<style scoped>\n",
       "    .dataframe tbody tr th:only-of-type {\n",
       "        vertical-align: middle;\n",
       "    }\n",
       "\n",
       "    .dataframe tbody tr th {\n",
       "        vertical-align: top;\n",
       "    }\n",
       "\n",
       "    .dataframe thead th {\n",
       "        text-align: right;\n",
       "    }\n",
       "</style>\n",
       "<table border=\"1\" class=\"dataframe\">\n",
       "  <thead>\n",
       "    <tr style=\"text-align: right;\">\n",
       "      <th></th>\n",
       "      <th>grp</th>\n",
       "      <th>cnt_id</th>\n",
       "      <th>is_active</th>\n",
       "      <th>is_pay</th>\n",
       "      <th>revenue</th>\n",
       "      <th>CR</th>\n",
       "      <th>active_CR</th>\n",
       "      <th>ARPAU</th>\n",
       "      <th>ARPPU</th>\n",
       "    </tr>\n",
       "  </thead>\n",
       "  <tbody>\n",
       "    <tr>\n",
       "      <th>0</th>\n",
       "      <td>A</td>\n",
       "      <td>14671</td>\n",
       "      <td>1535</td>\n",
       "      <td>107</td>\n",
       "      <td>92096.0000</td>\n",
       "      <td>0.729330</td>\n",
       "      <td>6.970684</td>\n",
       "      <td>59.997394</td>\n",
       "      <td>860.710280</td>\n",
       "    </tr>\n",
       "    <tr>\n",
       "      <th>1</th>\n",
       "      <td>B</td>\n",
       "      <td>59813</td>\n",
       "      <td>6793</td>\n",
       "      <td>433</td>\n",
       "      <td>479330.0036</td>\n",
       "      <td>0.723923</td>\n",
       "      <td>6.374209</td>\n",
       "      <td>70.562344</td>\n",
       "      <td>1106.997699</td>\n",
       "    </tr>\n",
       "  </tbody>\n",
       "</table>\n",
       "</div>"
      ],
      "text/plain": [
       "  grp  cnt_id  is_active  is_pay      revenue        CR  active_CR      ARPAU  \\\n",
       "0   A   14671       1535     107   92096.0000  0.729330   6.970684  59.997394   \n",
       "1   B   59813       6793     433  479330.0036  0.723923   6.374209  70.562344   \n",
       "\n",
       "         ARPPU  \n",
       "0   860.710280  \n",
       "1  1106.997699  "
      ]
     },
     "execution_count": 15,
     "metadata": {},
     "output_type": "execute_result"
    }
   ],
   "source": [
    "data_metrics = df.groupby('grp', as_index=False)\\\n",
    "    .agg({'id':'count',\n",
    "          'is_active':'sum',\n",
    "          'is_pay':'sum',\n",
    "          'rev':'sum'})\\\n",
    "    .rename(columns={'id':'cnt_id','rev':'revenue'})\n",
    "data_metrics['CR'] = (data_metrics.is_pay/data_metrics.cnt_id).mul(100)\n",
    "data_metrics['active_CR'] = (data_metrics.is_pay/data_metrics.is_active).mul(100)\n",
    "data_metrics['ARPAU']= (data_metrics.revenue/data_metrics.is_active)\n",
    "data_metrics['ARPPU']= (data_metrics.revenue/data_metrics.is_pay) \n",
    "data_metrics"
   ]
  },
  {
   "cell_type": "markdown",
   "metadata": {},
   "source": [
    "Мы замечаем, что конверсия (CR) существенно не изменилась независимо от группы, при этом средний чек в целевой группе выше"
   ]
  },
  {
   "cell_type": "markdown",
   "metadata": {},
   "source": [
    "### Гипотеза 2: изменение среднего чека (AOV) покупки на сайте"
   ]
  },
  {
   "cell_type": "markdown",
   "metadata": {},
   "source": [
    "Давайте проанализируем распределение покупок среди пользователей и замечаем, что оно далеко от нормального. В контрольной группе A, где используется базовая механика, явно видно, что средний чек покупки ниже, чем в целевой группе B с новым методом оплаты"
   ]
  },
  {
   "cell_type": "code",
   "execution_count": 16,
   "metadata": {
    "scrolled": true
   },
   "outputs": [
    {
     "data": {
      "text/plain": [
       "<seaborn.axisgrid.FacetGrid at 0x7ff8dfae8278>"
      ]
     },
     "execution_count": 16,
     "metadata": {},
     "output_type": "execute_result"
    },
    {
     "data": {
      "image/png": "[encoded data removed]",
      "text/plain": [
       "<Figure size 402.875x360 with 1 Axes>"
      ]
     },
     "metadata": {
      "needs_background": "light"
     },
     "output_type": "display_data"
    }
   ],
   "source": [
    "sns.displot(data = df[df.is_pay==1], x='rev', hue = 'grp')"
   ]
  },
  {
   "cell_type": "markdown",
   "metadata": {},
   "source": [
    "Для вычисления среднего чека (AOV) используется количество заказов, но в данном примере не указано, сколько покупок приходится на одного пользователя. У нас есть сумма для каждого уникального пользователя (id), и в данном контексте AOV равен ARPPU (средний доход на пользователя). Поэтому мы предположим, что каждый из наших пользователей совершил только одну покупку, и в связи с этим мы рассмотрим изменение в ARPPU"
   ]
  },
  {
   "cell_type": "markdown",
   "metadata": {},
   "source": [
    "### Гипотеза 3: изменение ARPPU"
   ]
  },
  {
   "cell_type": "markdown",
   "metadata": {},
   "source": [
    "В этом случае мы применим метод Bootstrap: создадим 95% доверительный интервал (уровень значимости alpha=5%) для разницы метрик между группами. t - это статистика теста. Сформулируем наши гипотезы: H0 - t равно 0, H1 - t не равно 0"
   ]
  },
  {
   "cell_type": "code",
   "execution_count": 17,
   "metadata": {},
   "outputs": [],
   "source": [
    "def get_percentile_ci(bootstrap_stats, alpha):\n",
    "    # строим доверительный интервал\n",
    "    left, right = np.quantile(bootstrap_stats, [alpha / 2, 1 - alpha / 2])\n",
    "    return left, right\n",
    "\n",
    "def check_bootsrtap(a, b, n_iter, alpha):\n",
    "    \n",
    "    # посчитаем стоимость и количество покупок в группах\n",
    "    df_a = np.array([[sum(values), len(values)] for values in a.items()])\n",
    "    df_b = np.array([[sum(values), len(values)] for values in b.items()])\n",
    "    \n",
    "    # сгенирируем индексы для выбора подмножества данных\n",
    "    len_a = len(a)\n",
    "    len_b = len(b)\n",
    "    indexes_a = np.random.choice(np.arange(len_a), size=(n_iter, len_a), replace=True)\n",
    "    indexes_b = np.random.choice(np.arange(len_b), size=(n_iter, len_b), replace=True)\n",
    "    \n",
    "    bootstrap_stats = []\n",
    "    \n",
    "    for idx_a, idx_b in zip(indexes_a, indexes_b):\n",
    "        bootstrap_df_a = df_a[idx_a]\n",
    "        bootstrap_df_b = df_b[idx_b]\n",
    "        \n",
    "    # считаем разницу метрик\n",
    "        bootstrap_stat = (bootstrap_df_b[:, 0].sum() / bootstrap_df_b[:, 1].sum()\n",
    "                - bootstrap_df_a[:, 0].sum() / bootstrap_df_a[:, 1].sum())\n",
    "        bootstrap_stats.append(bootstrap_stat)\n",
    "        \n",
    "    # строим доверительный интервал и оценим значимость отличий\n",
    "    ci = get_percentile_ci(bootstrap_stats, alpha)\n",
    "    has_effect = not (ci[0] < 0 < ci[1])\n",
    "    return has_effect"
   ]
  },
  {
   "cell_type": "code",
   "execution_count": 18,
   "metadata": {},
   "outputs": [],
   "source": [
    "alpha = 0.05\n",
    "n_iter = 1000\n",
    "a = df[(df.grp=='A') & (df.is_pay==1)].rev\n",
    "b = df[(df.grp=='B') & (df.is_pay==1)].rev"
   ]
  },
  {
   "cell_type": "code",
   "execution_count": 19,
   "metadata": {},
   "outputs": [],
   "source": [
    "effects = []\n",
    "for _ in range(1000):\n",
    "    has_effect = check_bootsrtap(a, b, n_iter, alpha)\n",
    "    effects.append(has_effect)"
   ]
  },
  {
   "cell_type": "code",
   "execution_count": 20,
   "metadata": {},
   "outputs": [
    {
     "name": "stdout",
     "output_type": "stream",
     "text": [
      "Доля ошибок первого рода: 0.000\n"
     ]
    }
   ],
   "source": [
    "# ошибка первого рода - ситуация, когда отвергнута верная нулевая гипотеза\n",
    "error_rate = np.mean(np.array(effects) == 1)\n",
    "print(f'Доля ошибок первого рода: {error_rate:0.3f}')"
   ]
  },
  {
   "cell_type": "markdown",
   "metadata": {},
   "source": [
    "# Ответ"
   ]
  },
  {
   "cell_type": "markdown",
   "metadata": {},
   "source": [
    "Видим, что в нашем случае отличия статистически значимы - > Таким образом, ARPPU действительно увеличился"
   ]
  },
  {
   "cell_type": "markdown",
   "metadata": {},
   "source": [
    "# Задание 2. Запросы в SQL"
   ]
  },
  {
   "cell_type": "markdown",
   "metadata": {},
   "source": [
    "Необходимо написать оптимальный запрос, который даст информацию о количестве очень усердных студентов.\n",
    "\n",
    "Под усердным студентом мы понимаем студента, который правильно решил 20 задач за текущий месяц."
   ]
  },
  {
   "cell_type": "code",
   "execution_count": 21,
   "metadata": {},
   "outputs": [],
   "source": [
    "# подключаемся к базе данных\n",
    "connection_default={'database':'default',\n",
    "            'host':'https://clickhouse.lab.karpov.courses',\n",
    "            'user':'student',\n",
    "            'password' : 'dpo_python_2020'}"
   ]
  },
  {
   "cell_type": "code",
   "execution_count": 22,
   "metadata": {},
   "outputs": [],
   "source": [
    "# посмотрим за какой период у нас есть данные\n",
    "query_date =\"\"\"\n",
    "SELECT toStartOfMonth(max(Date(timest))) as current_month\n",
    "    FROM default.peas \n",
    "\"\"\""
   ]
  },
  {
   "cell_type": "code",
   "execution_count": 23,
   "metadata": {},
   "outputs": [
    {
     "data": {
      "text/html": [
       "<div>\n",
       "<style scoped>\n",
       "    .dataframe tbody tr th:only-of-type {\n",
       "        vertical-align: middle;\n",
       "    }\n",
       "\n",
       "    .dataframe tbody tr th {\n",
       "        vertical-align: top;\n",
       "    }\n",
       "\n",
       "    .dataframe thead th {\n",
       "        text-align: right;\n",
       "    }\n",
       "</style>\n",
       "<table border=\"1\" class=\"dataframe\">\n",
       "  <thead>\n",
       "    <tr style=\"text-align: right;\">\n",
       "      <th></th>\n",
       "      <th>current_month</th>\n",
       "    </tr>\n",
       "  </thead>\n",
       "  <tbody>\n",
       "    <tr>\n",
       "      <th>0</th>\n",
       "      <td>2021-10-01</td>\n",
       "    </tr>\n",
       "  </tbody>\n",
       "</table>\n",
       "</div>"
      ],
      "text/plain": [
       "  current_month\n",
       "0    2021-10-01"
      ]
     },
     "execution_count": 23,
     "metadata": {},
     "output_type": "execute_result"
    }
   ],
   "source": [
    "current_month = ph.read_clickhouse(query=query_date, connection=connection_default)\n",
    "current_month"
   ]
  },
  {
   "cell_type": "code",
   "execution_count": 24,
   "metadata": {},
   "outputs": [],
   "source": [
    "# сформируем запрос о количестве усердных студентов вне зависимости от курса за текущий месяц\n",
    "\n",
    "query_students = \"\"\"\n",
    "SELECT COUNT(st_id)  \n",
    "FROM\n",
    "    (SELECT st_id, toStartOfMonth(timest) as month, sum(correct) as correct_task\n",
    "    FROM default.peas \n",
    "    GROUP BY st_id, month\n",
    "    HAVING toStartOfMonth(max(timest))=month)\n",
    "WHERE correct_task >= 20\n",
    "\"\"\""
   ]
  },
  {
   "cell_type": "code",
   "execution_count": 25,
   "metadata": {},
   "outputs": [
    {
     "data": {
      "text/html": [
       "<div>\n",
       "<style scoped>\n",
       "    .dataframe tbody tr th:only-of-type {\n",
       "        vertical-align: middle;\n",
       "    }\n",
       "\n",
       "    .dataframe tbody tr th {\n",
       "        vertical-align: top;\n",
       "    }\n",
       "\n",
       "    .dataframe thead th {\n",
       "        text-align: right;\n",
       "    }\n",
       "</style>\n",
       "<table border=\"1\" class=\"dataframe\">\n",
       "  <thead>\n",
       "    <tr style=\"text-align: right;\">\n",
       "      <th></th>\n",
       "      <th>count(st_id)</th>\n",
       "    </tr>\n",
       "  </thead>\n",
       "  <tbody>\n",
       "    <tr>\n",
       "      <th>0</th>\n",
       "      <td>136</td>\n",
       "    </tr>\n",
       "  </tbody>\n",
       "</table>\n",
       "</div>"
      ],
      "text/plain": [
       "   count(st_id)\n",
       "0           136"
      ]
     },
     "execution_count": 25,
     "metadata": {},
     "output_type": "execute_result"
    }
   ],
   "source": [
    "# количество усердных студентов\n",
    "ph.read_clickhouse(query=query_students, connection=connection_default)"
   ]
  },
  {
   "cell_type": "markdown",
   "metadata": {},
   "source": [
    "В одном запросе требуется извлечь следующую информацию о группах пользователей:\n",
    "\n",
    "ARPU (средний доход на пользователя)\n",
    "ARPAU (средний доход на активного пользователя)\n",
    "Конверсия в покупку (CR)\n",
    "Конверсия активного пользователя в покупку\n",
    "Конверсия пользователя, активного в математике (subject = \"Math\"), в покупку курса по математике.\n",
    "ARPU рассчитывается относительно всех пользователей, входящих в группы. Активным считается пользователь, который за все время правильно решил более 10 задач в любых дисциплинах. Активным по математике считается пользователь, который за все время правильно решил 2 или более задачи по математике."
   ]
  },
  {
   "cell_type": "code",
   "execution_count": 26,
   "metadata": {},
   "outputs": [],
   "source": [
    "query_metrics = \"\"\"\n",
    "with empt as (SELECT l.st_id as st_id, l.subject as subject, r.test_grp as test_grp, count(l.correct) as number_task, sum(l.correct) as is_correct, min(z.money) as money, if (money>0,1,0) as is_pay, if (is_correct > 10,1,0) as is_active\n",
    "FROM default.peas as l\n",
    "LEFT JOIN (\n",
    "    SELECT st_id, test_grp\n",
    "    FROM default.studs\n",
    "    ) as r\n",
    "ON l.st_id = r.st_id\n",
    "LEFT JOIN (\n",
    "    SELECT st_id, subject, money \n",
    "    FROM default.final_project_check) as z\n",
    "ON l.st_id=z.st_id and l.subject = z.subject\n",
    "GROUP BY st_id, subject, test_grp)\n",
    "\n",
    "SELECT test_grp,\n",
    "    round(sum(money)/uniqExact(st_id),2) as ARPU,\n",
    "    round(sumIf(money, is_active=1)/uniqExactIf(st_id,is_active=1),2) as ARPAU,\n",
    "    round(uniqExactIf(st_id,is_pay=1)/uniqExact(st_id)*100,2) as CR,\n",
    "    round(uniqExactIf(st_id, is_pay=1 AND is_active=1)/uniqExactIf(st_id, is_active=1)*100,2) as active_CR,\n",
    "    round(uniqExactIf(st_id, is_pay=1 AND subject='Math' AND is_correct>=2)/uniqExactIf(st_id, subject='Math' AND is_correct>=2)*100,2) as active_math_CR\n",
    "FROM empt\n",
    "GROUP BY test_grp\n",
    "\"\"\""
   ]
  },
  {
   "cell_type": "code",
   "execution_count": 27,
   "metadata": {},
   "outputs": [
    {
     "data": {
      "text/html": [
       "<div>\n",
       "<style scoped>\n",
       "    .dataframe tbody tr th:only-of-type {\n",
       "        vertical-align: middle;\n",
       "    }\n",
       "\n",
       "    .dataframe tbody tr th {\n",
       "        vertical-align: top;\n",
       "    }\n",
       "\n",
       "    .dataframe thead th {\n",
       "        text-align: right;\n",
       "    }\n",
       "</style>\n",
       "<table border=\"1\" class=\"dataframe\">\n",
       "  <thead>\n",
       "    <tr style=\"text-align: right;\">\n",
       "      <th></th>\n",
       "      <th>test_grp</th>\n",
       "      <th>ARPU</th>\n",
       "      <th>ARPAU</th>\n",
       "      <th>CR</th>\n",
       "      <th>active_CR</th>\n",
       "      <th>active_math_CR</th>\n",
       "    </tr>\n",
       "  </thead>\n",
       "  <tbody>\n",
       "    <tr>\n",
       "      <th>0</th>\n",
       "      <td>control</td>\n",
       "      <td>4121.21</td>\n",
       "      <td>3898.31</td>\n",
       "      <td>4.85</td>\n",
       "      <td>5.08</td>\n",
       "      <td>6.12</td>\n",
       "    </tr>\n",
       "    <tr>\n",
       "      <th>1</th>\n",
       "      <td>pilot</td>\n",
       "      <td>7902.10</td>\n",
       "      <td>8131.87</td>\n",
       "      <td>8.39</td>\n",
       "      <td>8.79</td>\n",
       "      <td>9.52</td>\n",
       "    </tr>\n",
       "  </tbody>\n",
       "</table>\n",
       "</div>"
      ],
      "text/plain": [
       "  test_grp     ARPU    ARPAU    CR  active_CR  active_math_CR\n",
       "0  control  4121.21  3898.31  4.85       5.08            6.12\n",
       "1    pilot  7902.10  8131.87  8.39       8.79            9.52"
      ]
     },
     "execution_count": 27,
     "metadata": {},
     "output_type": "execute_result"
    }
   ],
   "source": [
    "metrics = ph.read_clickhouse(query=query_metrics, connection=connection_default)\n",
    "metrics"
   ]
  },
  {
   "cell_type": "markdown",
   "metadata": {},
   "source": [
    "# Задание 3."
   ]
  },
  {
   "cell_type": "markdown",
   "metadata": {},
   "source": [
    "Реализуйте функцию, которая будет автоматически подгружать информацию из дополнительного файла groups_add.csv (заголовки могут отличаться) и на основании дополнительных параметров пересчитывать метрики."
   ]
  },
  {
   "cell_type": "code",
   "execution_count": 28,
   "metadata": {},
   "outputs": [],
   "source": [
    "groups_add_data = get_data(groups_add_key, sep=',')"
   ]
  },
  {
   "cell_type": "code",
   "execution_count": 29,
   "metadata": {},
   "outputs": [
    {
     "data": {
      "text/html": [
       "<div>\n",
       "<style scoped>\n",
       "    .dataframe tbody tr th:only-of-type {\n",
       "        vertical-align: middle;\n",
       "    }\n",
       "\n",
       "    .dataframe tbody tr th {\n",
       "        vertical-align: top;\n",
       "    }\n",
       "\n",
       "    .dataframe thead th {\n",
       "        text-align: right;\n",
       "    }\n",
       "</style>\n",
       "<table border=\"1\" class=\"dataframe\">\n",
       "  <thead>\n",
       "    <tr style=\"text-align: right;\">\n",
       "      <th></th>\n",
       "      <th>id</th>\n",
       "      <th>grp</th>\n",
       "    </tr>\n",
       "  </thead>\n",
       "  <tbody>\n",
       "    <tr>\n",
       "      <th>0</th>\n",
       "      <td>5694584</td>\n",
       "      <td>B</td>\n",
       "    </tr>\n",
       "    <tr>\n",
       "      <th>1</th>\n",
       "      <td>5694830</td>\n",
       "      <td>B</td>\n",
       "    </tr>\n",
       "    <tr>\n",
       "      <th>2</th>\n",
       "      <td>5695057</td>\n",
       "      <td>B</td>\n",
       "    </tr>\n",
       "    <tr>\n",
       "      <th>3</th>\n",
       "      <td>5698872</td>\n",
       "      <td>B</td>\n",
       "    </tr>\n",
       "    <tr>\n",
       "      <th>4</th>\n",
       "      <td>5699067</td>\n",
       "      <td>B</td>\n",
       "    </tr>\n",
       "  </tbody>\n",
       "</table>\n",
       "</div>"
      ],
      "text/plain": [
       "        id grp\n",
       "0  5694584   B\n",
       "1  5694830   B\n",
       "2  5695057   B\n",
       "3  5698872   B\n",
       "4  5699067   B"
      ]
     },
     "execution_count": 29,
     "metadata": {},
     "output_type": "execute_result"
    }
   ],
   "source": [
    "groups_add_data.head()"
   ]
  },
  {
   "cell_type": "code",
   "execution_count": 30,
   "metadata": {},
   "outputs": [],
   "source": [
    "def new_calculation_metrics(add_data):\n",
    "    new_groups_data = pd.concat([groups_data,add_data])\n",
    "    df = new_groups_data.merge(active_studs.student_id, left_on = new_groups_data.id, right_on=active_studs.student_id, how='left').drop('key_0', axis=1)\n",
    "    df = df.merge(checks.rev,left_on = df.id, right_on= checks.student_id, how='left').drop('key_0', axis=1)\n",
    "    df['is_pay']= df.rev.apply(lambda x: 1 if x>0 else 0)\n",
    "    df['is_active'] = df.student_id.apply(lambda x: 1 if x>0 else 0)\n",
    "    new_data_metrics = df.groupby('grp', as_index=False)\\\n",
    "    .agg({'id':'count',\n",
    "          'is_active':'sum',\n",
    "          'is_pay':'sum',\n",
    "          'rev':'sum'})\\\n",
    "    .rename(columns={'id':'cnt_id','rev':'revenue'})\n",
    "    new_data_metrics['CR'] = (new_data_metrics.is_pay/new_data_metrics.cnt_id).mul(100)\n",
    "    new_data_metrics['active_CR'] = (new_data_metrics.is_pay/new_data_metrics.is_active).mul(100)\n",
    "    new_data_metrics['ARPAU']= (new_data_metrics.revenue/new_data_metrics.is_active)\n",
    "    new_data_metrics['ARPPU']= (new_data_metrics.revenue/new_data_metrics.is_pay)\n",
    "    return (new_data_metrics)"
   ]
  },
  {
   "cell_type": "code",
   "execution_count": 31,
   "metadata": {},
   "outputs": [],
   "source": [
    "new_metrics = new_calculation_metrics(groups_add_data)"
   ]
  },
  {
   "cell_type": "raw",
   "metadata": {},
   "source": [
    "Реализуйте функцию, которая будет строить графики по получаемым метрикам."
   ]
  },
  {
   "cell_type": "code",
   "execution_count": 32,
   "metadata": {
    "scrolled": false
   },
   "outputs": [
    {
     "data": {
      "image/png": "[encoded data removed]",
      "text/plain": [
       "<Figure size 1440x720 with 8 Axes>"
      ]
     },
     "metadata": {
      "needs_background": "light"
     },
     "output_type": "display_data"
    }
   ],
   "source": [
    "fig, axes = plt.subplots(4,2,figsize=(20, 10))\n",
    "sns.barplot(x='grp', y='cnt_id', data = new_metrics, ax=axes[0,0]).set(title = 'Количество пользователей в группах',facecolor='white', ylabel='',xlabel='',yticks=[])\n",
    "sns.barplot(x='grp', y='is_active', data = new_metrics, ax=axes[0,1]).set(title = 'Количество активных пользователей в группах',facecolor='white', ylabel='',xlabel='',yticks=[])\n",
    "sns.barplot(x='grp', y='is_pay', data = new_metrics, ax=axes[1,0]).set(title = 'Количество пользователей, совершивших оплату на сайте',facecolor='white', ylabel='',xlabel='',yticks=[])\n",
    "sns.barplot(x='grp', y='revenue', data = new_metrics, ax=axes[1,1]).set(title = 'Выручка',facecolor='white', ylabel='',xlabel='',yticks=[])\n",
    "sns.barplot(x='grp', y='CR', data = new_metrics, ax=axes[2,0]).set(title = 'Конверсия (CR)',facecolor='white', ylabel='',xlabel='',yticks=[])\n",
    "sns.barplot(x='grp', y='active_CR', data = new_metrics, ax=axes[2,1]).set(title = 'Конверсия (CR) среди активных клиентов',facecolor='white', ylabel='',xlabel='',yticks=[])\n",
    "sns.barplot(x='grp', y='ARPAU', data = new_metrics, ax=axes[3,0]).set(title = 'Средний доход на активных пользователей',facecolor='white', ylabel='', xlabel='Группа',yticks=[])\n",
    "sns.barplot(x='grp', y='ARPPU', data = new_metrics, ax=axes[3,1]).set(title = 'Средний доход среди платящих пользователей',facecolor='white', ylabel='', xlabel='Группа',yticks=[])\n",
    "\n",
    "    \n",
    "fig.suptitle('Общие метрики (A - контрольная/ B - целевая)', fontsize=12, x = 0.5, y = 1.05)\n",
    "plt.tight_layout()\n",
    "plt.show()"
   ]
  },
  {
   "cell_type": "code",
   "execution_count": null,
   "metadata": {},
   "outputs": [],
   "source": []
  }
 ],
 "metadata": {
  "kernelspec": {
   "display_name": "Python 3",
   "language": "python",
   "name": "python3"
  },
  "language_info": {
   "codemirror_mode": {
    "name": "ipython",
    "version": 3
   },
   "file_extension": ".py",
   "mimetype": "text/x-python",
   "name": "python",
   "nbconvert_exporter": "python",
   "pygments_lexer": "ipython3",
   "version": "3.7.3"
  }
 },
 "nbformat": 4,
 "nbformat_minor": 4
}
